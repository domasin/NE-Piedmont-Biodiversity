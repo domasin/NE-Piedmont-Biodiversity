{
 "cells": [
  {
   "cell_type": "code",
   "execution_count": 15,
   "metadata": {},
   "outputs": [
    {
     "data": {
      "application/vnd.jupyter.widget-view+json": {
       "model_id": "2322f3388e8541b695c7ba3c94399034",
       "version_major": 2,
       "version_minor": 0
      },
      "text/plain": [
       "FigureWidget({\n",
       "    'data': [{'labels': [Eve, Cain, Seth, Enos, Noam, Abel, Awan, Enoch, Azura],\n",
       "              'parents': [, Eve, Eve, Seth, Seth, Eve, Eve, Awan, Eve],\n",
       "              'type': 'treemap',\n",
       "              'uid': 'de88c3fc-49b5-44fb-a4ad-5967dedb4ecb'}],\n",
       "    'layout': {'template': '...'}\n",
       "})"
      ]
     },
     "metadata": {},
     "output_type": "display_data"
    },
    {
     "name": "stdout",
     "output_type": "stream",
     "text": [
      "You clicked the point with label: Seth\n",
      "You clicked the point with label: Enos\n",
      "You clicked the point with label: Eve\n",
      "You clicked the point with label: Eve\n",
      "You clicked the point with label: Awan\n",
      "You clicked the point with label: Eve\n"
     ]
    }
   ],
   "source": [
    "import plotly.graph_objs as go\n",
    "import plotly.offline as pyo\n",
    "from plotly.subplots import make_subplots\n",
    "from IPython.display import display\n",
    "\n",
    "# Create a sample treemap using FigureWidget\n",
    "fig = go.FigureWidget(go.Treemap(\n",
    "    labels=[\"Eve\", \"Cain\", \"Seth\", \"Enos\", \"Noam\", \"Abel\", \"Awan\", \"Enoch\", \"Azura\"],\n",
    "    parents=[\"\", \"Eve\", \"Eve\", \"Seth\", \"Seth\", \"Eve\", \"Eve\", \"Awan\", \"Eve\"]\n",
    "))\n",
    "\n",
    "# Define a callback function to handle click events\n",
    "def treemap_click_callback(trace, points, state):\n",
    "    if points.point_inds:\n",
    "        clicked_index = points.point_inds[0]\n",
    "        clicked_label = trace.labels[clicked_index]\n",
    "        print(f\"You clicked the point with label: {clicked_label}\")\n",
    "\n",
    "# Assign the callback to the treemap\n",
    "fig.data[0].on_click(treemap_click_callback)\n",
    "\n",
    "# Display the treemap\n",
    "display(fig)"
   ]
  }
 ],
 "metadata": {
  "kernelspec": {
   "display_name": "Python 3",
   "language": "python",
   "name": "python3"
  },
  "language_info": {
   "codemirror_mode": {
    "name": "ipython",
    "version": 3
   },
   "file_extension": ".py",
   "mimetype": "text/x-python",
   "name": "python",
   "nbconvert_exporter": "python",
   "pygments_lexer": "ipython3",
   "version": "3.11.9"
  }
 },
 "nbformat": 4,
 "nbformat_minor": 2
}
